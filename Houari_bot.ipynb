{
  "cells": [
    {
      "cell_type": "markdown",
      "metadata": {
        "id": "view-in-github",
        "colab_type": "text"
      },
      "source": [
        "<a href=\"https://colab.research.google.com/github/mokraneimed/TensorFlow-projects/blob/main/Houari_bot.ipynb\" target=\"_parent\"><img src=\"https://colab.research.google.com/assets/colab-badge.svg\" alt=\"Open In Colab\"/></a>"
      ]
    },
    {
      "cell_type": "code",
      "execution_count": null,
      "metadata": {
        "id": "2W_noIe6_YZv"
      },
      "outputs": [],
      "source": [
        "%matplotlib inline\n",
        "\n",
        "import tensorflow as tf\n",
        "import numpy as np\n",
        "import matplotlib.pyplot as plt\n",
        "import random"
      ]
    },
    {
      "cell_type": "code",
      "execution_count": null,
      "metadata": {
        "id": "Rjoa6ro_A7Xj"
      },
      "outputs": [],
      "source": [
        "import json\n",
        "from tensorflow.keras.preprocessing.text import Tokenizer\n",
        "from tensorflow.keras.layers import Input, Embedding, LSTM , Dense\n",
        "from tensorflow.keras.models import Sequential"
      ]
    },
    {
      "cell_type": "code",
      "execution_count": null,
      "metadata": {
        "id": "VeIQhoifBECm"
      },
      "outputs": [],
      "source": [
        "with open('content.json') as content:\n",
        "  data1 = json.load(content)\n",
        "tags = []\n",
        "inputs = []\n",
        "responses={}\n",
        "for intent in data1['intents']:\n",
        "  responses[intent['tag']]=intent['responses']\n",
        "  for lines in intent['input']:\n",
        "    inputs.append(lines)\n",
        "    tags.append(intent['tag'])"
      ]
    },
    {
      "cell_type": "code",
      "execution_count": null,
      "metadata": {
        "id": "R83g5RKzBT3C"
      },
      "outputs": [],
      "source": [
        "from sklearn import utils"
      ]
    },
    {
      "cell_type": "code",
      "execution_count": null,
      "metadata": {
        "id": "-VVDDh-rCls3"
      },
      "outputs": [],
      "source": [
        "from os import replace\n",
        "inputs, tags = utils.shuffle(inputs, tags)"
      ]
    },
    {
      "cell_type": "code",
      "execution_count": null,
      "metadata": {
        "id": "R5QfM-kiCymV"
      },
      "outputs": [],
      "source": [
        "tokenizer = Tokenizer(num_words = 2000 , oov_token = '<UKN>')\n",
        "tokenizer.fit_on_texts(inputs)"
      ]
    },
    {
      "cell_type": "code",
      "execution_count": null,
      "metadata": {
        "id": "Md64xrPoEHGl"
      },
      "outputs": [],
      "source": [
        "from tensorflow.keras.preprocessing.sequence import pad_sequences\n",
        "def get_sequences (tokenizer , tweets):\n",
        "    sequences = tokenizer.texts_to_sequences(tweets)\n",
        "    padded = pad_sequences(sequences , truncating='post',padding='post',maxlen=15)\n",
        "    return padded"
      ]
    },
    {
      "cell_type": "code",
      "execution_count": null,
      "metadata": {
        "id": "lTwipHPVEasj"
      },
      "outputs": [],
      "source": [
        "padded_train = get_sequences(tokenizer,inputs)"
      ]
    },
    {
      "cell_type": "code",
      "execution_count": null,
      "metadata": {
        "colab": {
          "base_uri": "https://localhost:8080/",
          "height": 35
        },
        "id": "na4RiqfSEl6r",
        "outputId": "2a318e4d-8d7f-43ac-9d75-4c6e0bb2b8c8"
      },
      "outputs": [
        {
          "data": {
            "application/vnd.google.colaboratory.intrinsic+json": {
              "type": "string"
            },
            "text/plain": [
              "\" what's the basic requirements\""
            ]
          },
          "execution_count": 177,
          "metadata": {},
          "output_type": "execute_result"
        }
      ],
      "source": [
        "inputs[22]"
      ]
    },
    {
      "cell_type": "code",
      "execution_count": null,
      "metadata": {
        "colab": {
          "base_uri": "https://localhost:8080/"
        },
        "id": "mgTnyjCpEh1o",
        "outputId": "af79d843-8925-452b-b5db-b8c74dc7cca5"
      },
      "outputs": [
        {
          "data": {
            "text/plain": [
              "array([78,  4, 36, 31,  0,  0,  0,  0,  0,  0,  0,  0,  0,  0,  0],\n",
              "      dtype=int32)"
            ]
          },
          "execution_count": 178,
          "metadata": {},
          "output_type": "execute_result"
        }
      ],
      "source": [
        "padded_train[22]"
      ]
    },
    {
      "cell_type": "code",
      "execution_count": null,
      "metadata": {
        "id": "sB96coUfGVRa"
      },
      "outputs": [],
      "source": [
        "classes = set(tags)"
      ]
    },
    {
      "cell_type": "code",
      "execution_count": null,
      "metadata": {
        "colab": {
          "base_uri": "https://localhost:8080/"
        },
        "id": "su7U-8yRGaoI",
        "outputId": "5efbf8a4-3c58-441a-9e78-711c870cf430"
      },
      "outputs": [
        {
          "data": {
            "text/plain": [
              "{'goodbye',\n",
              " 'greeting',\n",
              " 'howami',\n",
              " 'jokes',\n",
              " 'prerequisites',\n",
              " 'whereareyou',\n",
              " 'whereisthecenter',\n",
              " 'whoareyou'}"
            ]
          },
          "execution_count": 180,
          "metadata": {},
          "output_type": "execute_result"
        }
      ],
      "source": [
        "classes"
      ]
    },
    {
      "cell_type": "code",
      "execution_count": null,
      "metadata": {
        "id": "a18H5u46GdaP"
      },
      "outputs": [],
      "source": [
        "class_to_index = dict((c,i) for i,c in enumerate(classes))\n",
        "index_to_class = dict((c,i) for c,i in enumerate(classes) )"
      ]
    },
    {
      "cell_type": "code",
      "execution_count": null,
      "metadata": {
        "colab": {
          "base_uri": "https://localhost:8080/"
        },
        "id": "w1XrYuQxGyVs",
        "outputId": "61b47e7f-bb46-4ea1-b743-416ebd76eb9b"
      },
      "outputs": [
        {
          "data": {
            "text/plain": [
              "{0: 'prerequisites',\n",
              " 1: 'greeting',\n",
              " 2: 'howami',\n",
              " 3: 'whereisthecenter',\n",
              " 4: 'jokes',\n",
              " 5: 'whereareyou',\n",
              " 6: 'goodbye',\n",
              " 7: 'whoareyou'}"
            ]
          },
          "execution_count": 182,
          "metadata": {},
          "output_type": "execute_result"
        }
      ],
      "source": [
        "index_to_class"
      ]
    },
    {
      "cell_type": "code",
      "execution_count": null,
      "metadata": {
        "colab": {
          "base_uri": "https://localhost:8080/"
        },
        "id": "NpTfBYgKGvor",
        "outputId": "102537a2-d9f6-44f0-b4bf-124906b1c3ae"
      },
      "outputs": [
        {
          "data": {
            "text/plain": [
              "{'prerequisites': 0,\n",
              " 'greeting': 1,\n",
              " 'howami': 2,\n",
              " 'whereisthecenter': 3,\n",
              " 'jokes': 4,\n",
              " 'whereareyou': 5,\n",
              " 'goodbye': 6,\n",
              " 'whoareyou': 7}"
            ]
          },
          "execution_count": 183,
          "metadata": {},
          "output_type": "execute_result"
        }
      ],
      "source": [
        "class_to_index"
      ]
    },
    {
      "cell_type": "code",
      "execution_count": null,
      "metadata": {
        "id": "qAuQjo4EG80h"
      },
      "outputs": [],
      "source": [
        "names_to_ids = lambda labels:([class_to_index.get(x) for x in labels])"
      ]
    },
    {
      "cell_type": "code",
      "execution_count": null,
      "metadata": {
        "id": "sdJGgUPoHc0I"
      },
      "outputs": [],
      "source": [
        "train_labels=names_to_ids(tags)"
      ]
    },
    {
      "cell_type": "code",
      "execution_count": null,
      "metadata": {
        "id": "DzPePm5uHnjs"
      },
      "outputs": [],
      "source": [
        "train_labels"
      ]
    },
    {
      "cell_type": "code",
      "execution_count": null,
      "metadata": {
        "colab": {
          "base_uri": "https://localhost:8080/"
        },
        "id": "dLSInTJ2Huc5",
        "outputId": "472dda4d-01b4-495b-d84b-88cec3006dbd"
      },
      "outputs": [
        {
          "data": {
            "text/plain": [
              "81"
            ]
          },
          "execution_count": 188,
          "metadata": {},
          "output_type": "execute_result"
        }
      ],
      "source": [
        "len(padded_train)"
      ]
    },
    {
      "cell_type": "code",
      "execution_count": null,
      "metadata": {
        "id": "8aq1rM0_IGna"
      },
      "outputs": [],
      "source": [
        "padded_val = padded_train[0:16]\n",
        "val_labels = train_labels[0:16]"
      ]
    },
    {
      "cell_type": "code",
      "execution_count": null,
      "metadata": {
        "colab": {
          "base_uri": "https://localhost:8080/"
        },
        "id": "d4el-PxkIYSa",
        "outputId": "d0fb4687-7134-4e65-ec37-d4600bf46284"
      },
      "outputs": [
        {
          "data": {
            "text/plain": [
              "16"
            ]
          },
          "execution_count": 190,
          "metadata": {},
          "output_type": "execute_result"
        }
      ],
      "source": [
        "len(val_labels)"
      ]
    },
    {
      "cell_type": "code",
      "execution_count": null,
      "metadata": {
        "id": "Bil1ItlMxMI-"
      },
      "outputs": [],
      "source": [
        "vocabulary = len(tokenizer.word_index)"
      ]
    },
    {
      "cell_type": "code",
      "execution_count": null,
      "metadata": {
        "colab": {
          "base_uri": "https://localhost:8080/"
        },
        "id": "WWfxB-4bxNW4",
        "outputId": "6e60fd85-423c-4c88-df02-ff09c616ca31"
      },
      "outputs": [
        {
          "data": {
            "text/plain": [
              "104"
            ]
          },
          "execution_count": 192,
          "metadata": {},
          "output_type": "execute_result"
        }
      ],
      "source": [
        "vocabulary"
      ]
    },
    {
      "cell_type": "code",
      "execution_count": null,
      "metadata": {
        "id": "3MVVkLWJJfo8"
      },
      "outputs": [],
      "source": [
        "padded_train = np.array(padded_train)\n",
        "train_labels = np.array(train_labels)\n",
        "padded_val = np.array(padded_val)\n",
        "val_labels = np.array(val_labels)"
      ]
    },
    {
      "cell_type": "code",
      "execution_count": null,
      "metadata": {
        "id": "-Kqj8tOlJx6k"
      },
      "outputs": [],
      "source": [
        "model = tf.keras.models.Sequential([\n",
        "    tf.keras.layers.Embedding(105,16,input_length= 15),\n",
        "    tf.keras.layers.LSTM(10,return_sequences=True),\n",
        "    tf.keras.layers.LSTM(10),\n",
        "    tf.keras.layers.Dense(8,activation='softmax')\n",
        "])\n",
        "model.compile(\n",
        "    loss = 'sparse_categorical_crossentropy',\n",
        "    optimizer = 'adam',\n",
        "    metrics = ['accuracy']\n",
        ") "
      ]
    },
    {
      "cell_type": "code",
      "execution_count": null,
      "metadata": {
        "id": "4pa1pBxFJ5KF"
      },
      "outputs": [],
      "source": [
        "from tensorflow.keras.callbacks import EarlyStopping\n",
        "early_stop=EarlyStopping(monitor='val_accuracy',mode='min',verbose=1,patience=2)"
      ]
    },
    {
      "cell_type": "code",
      "execution_count": null,
      "metadata": {
        "colab": {
          "base_uri": "https://localhost:8080/"
        },
        "id": "WY8MEaCpJ9y2",
        "outputId": "089e6615-30d3-4fb7-c4be-b935bf585806"
      },
      "outputs": [
        {
          "name": "stdout",
          "output_type": "stream",
          "text": [
            "Epoch 1/200\n",
            "3/3 [==============================] - 4s 16ms/step - loss: 2.0795 - accuracy: 0.1358\n",
            "Epoch 2/200\n",
            "3/3 [==============================] - 0s 14ms/step - loss: 2.0761 - accuracy: 0.2099\n",
            "Epoch 3/200\n",
            "3/3 [==============================] - 0s 15ms/step - loss: 2.0738 - accuracy: 0.1358\n",
            "Epoch 4/200\n",
            "3/3 [==============================] - 0s 15ms/step - loss: 2.0713 - accuracy: 0.1235\n",
            "Epoch 5/200\n",
            "3/3 [==============================] - 0s 16ms/step - loss: 2.0686 - accuracy: 0.1235\n",
            "Epoch 6/200\n",
            "3/3 [==============================] - 0s 15ms/step - loss: 2.0658 - accuracy: 0.1235\n",
            "Epoch 7/200\n",
            "3/3 [==============================] - 0s 15ms/step - loss: 2.0631 - accuracy: 0.1358\n",
            "Epoch 8/200\n",
            "3/3 [==============================] - 0s 15ms/step - loss: 2.0600 - accuracy: 0.1358\n",
            "Epoch 9/200\n",
            "3/3 [==============================] - 0s 16ms/step - loss: 2.0566 - accuracy: 0.1358\n",
            "Epoch 10/200\n",
            "3/3 [==============================] - 0s 20ms/step - loss: 2.0528 - accuracy: 0.2222\n",
            "Epoch 11/200\n",
            "3/3 [==============================] - 0s 15ms/step - loss: 2.0491 - accuracy: 0.2099\n",
            "Epoch 12/200\n",
            "3/3 [==============================] - 0s 15ms/step - loss: 2.0449 - accuracy: 0.2716\n",
            "Epoch 13/200\n",
            "3/3 [==============================] - 0s 15ms/step - loss: 2.0406 - accuracy: 0.2222\n",
            "Epoch 14/200\n",
            "3/3 [==============================] - 0s 15ms/step - loss: 2.0365 - accuracy: 0.2099\n",
            "Epoch 15/200\n",
            "3/3 [==============================] - 0s 15ms/step - loss: 2.0300 - accuracy: 0.2099\n",
            "Epoch 16/200\n",
            "3/3 [==============================] - 0s 15ms/step - loss: 2.0249 - accuracy: 0.1975\n",
            "Epoch 17/200\n",
            "3/3 [==============================] - 0s 15ms/step - loss: 2.0177 - accuracy: 0.1975\n",
            "Epoch 18/200\n",
            "3/3 [==============================] - 0s 14ms/step - loss: 2.0100 - accuracy: 0.1975\n",
            "Epoch 19/200\n",
            "3/3 [==============================] - 0s 15ms/step - loss: 2.0007 - accuracy: 0.2222\n",
            "Epoch 20/200\n",
            "3/3 [==============================] - 0s 15ms/step - loss: 1.9880 - accuracy: 0.2469\n",
            "Epoch 21/200\n",
            "3/3 [==============================] - 0s 16ms/step - loss: 1.9743 - accuracy: 0.2593\n",
            "Epoch 22/200\n",
            "3/3 [==============================] - 0s 15ms/step - loss: 1.9542 - accuracy: 0.2716\n",
            "Epoch 23/200\n",
            "3/3 [==============================] - 0s 14ms/step - loss: 1.9291 - accuracy: 0.3086\n",
            "Epoch 24/200\n",
            "3/3 [==============================] - 0s 14ms/step - loss: 1.9002 - accuracy: 0.3704\n",
            "Epoch 25/200\n",
            "3/3 [==============================] - 0s 15ms/step - loss: 1.8624 - accuracy: 0.3704\n",
            "Epoch 26/200\n",
            "3/3 [==============================] - 0s 14ms/step - loss: 1.8143 - accuracy: 0.3704\n",
            "Epoch 27/200\n",
            "3/3 [==============================] - 0s 14ms/step - loss: 1.7578 - accuracy: 0.3827\n",
            "Epoch 28/200\n",
            "3/3 [==============================] - 0s 15ms/step - loss: 1.7047 - accuracy: 0.3951\n",
            "Epoch 29/200\n",
            "3/3 [==============================] - 0s 15ms/step - loss: 1.6498 - accuracy: 0.5062\n",
            "Epoch 30/200\n",
            "3/3 [==============================] - 0s 14ms/step - loss: 1.5991 - accuracy: 0.4815\n",
            "Epoch 31/200\n",
            "3/3 [==============================] - 0s 15ms/step - loss: 1.5618 - accuracy: 0.4198\n",
            "Epoch 32/200\n",
            "3/3 [==============================] - 0s 15ms/step - loss: 1.5262 - accuracy: 0.3704\n",
            "Epoch 33/200\n",
            "3/3 [==============================] - 0s 16ms/step - loss: 1.4977 - accuracy: 0.3704\n",
            "Epoch 34/200\n",
            "3/3 [==============================] - 0s 16ms/step - loss: 1.4686 - accuracy: 0.3704\n",
            "Epoch 35/200\n",
            "3/3 [==============================] - 0s 16ms/step - loss: 1.4414 - accuracy: 0.4198\n",
            "Epoch 36/200\n",
            "3/3 [==============================] - 0s 15ms/step - loss: 1.4127 - accuracy: 0.4815\n",
            "Epoch 37/200\n",
            "3/3 [==============================] - 0s 21ms/step - loss: 1.3832 - accuracy: 0.5309\n",
            "Epoch 38/200\n",
            "3/3 [==============================] - 0s 15ms/step - loss: 1.3524 - accuracy: 0.4444\n",
            "Epoch 39/200\n",
            "3/3 [==============================] - 0s 15ms/step - loss: 1.3219 - accuracy: 0.4321\n",
            "Epoch 40/200\n",
            "3/3 [==============================] - 0s 15ms/step - loss: 1.2952 - accuracy: 0.4321\n",
            "Epoch 41/200\n",
            "3/3 [==============================] - 0s 15ms/step - loss: 1.2659 - accuracy: 0.4321\n",
            "Epoch 42/200\n",
            "3/3 [==============================] - 0s 15ms/step - loss: 1.2388 - accuracy: 0.4321\n",
            "Epoch 43/200\n",
            "3/3 [==============================] - 0s 15ms/step - loss: 1.2137 - accuracy: 0.4321\n",
            "Epoch 44/200\n",
            "3/3 [==============================] - 0s 15ms/step - loss: 1.1899 - accuracy: 0.4321\n",
            "Epoch 45/200\n",
            "3/3 [==============================] - 0s 15ms/step - loss: 1.1609 - accuracy: 0.4321\n",
            "Epoch 46/200\n",
            "3/3 [==============================] - 0s 14ms/step - loss: 1.1305 - accuracy: 0.4321\n",
            "Epoch 47/200\n",
            "3/3 [==============================] - 0s 15ms/step - loss: 1.1059 - accuracy: 0.4321\n",
            "Epoch 48/200\n",
            "3/3 [==============================] - 0s 15ms/step - loss: 1.0780 - accuracy: 0.4444\n",
            "Epoch 49/200\n",
            "3/3 [==============================] - 0s 17ms/step - loss: 1.0504 - accuracy: 0.4815\n",
            "Epoch 50/200\n",
            "3/3 [==============================] - 0s 16ms/step - loss: 1.0249 - accuracy: 0.5309\n",
            "Epoch 51/200\n",
            "3/3 [==============================] - 0s 15ms/step - loss: 0.9974 - accuracy: 0.6173\n",
            "Epoch 52/200\n",
            "3/3 [==============================] - 0s 19ms/step - loss: 0.9707 - accuracy: 0.6543\n",
            "Epoch 53/200\n",
            "3/3 [==============================] - 0s 15ms/step - loss: 0.9447 - accuracy: 0.7160\n",
            "Epoch 54/200\n",
            "3/3 [==============================] - 0s 15ms/step - loss: 0.9202 - accuracy: 0.8148\n",
            "Epoch 55/200\n",
            "3/3 [==============================] - 0s 15ms/step - loss: 0.8955 - accuracy: 0.8272\n",
            "Epoch 56/200\n",
            "3/3 [==============================] - 0s 15ms/step - loss: 0.8727 - accuracy: 0.8395\n",
            "Epoch 57/200\n",
            "3/3 [==============================] - 0s 14ms/step - loss: 0.8522 - accuracy: 0.8395\n",
            "Epoch 58/200\n",
            "3/3 [==============================] - 0s 15ms/step - loss: 0.8304 - accuracy: 0.8642\n",
            "Epoch 59/200\n",
            "3/3 [==============================] - 0s 15ms/step - loss: 0.8107 - accuracy: 0.8765\n",
            "Epoch 60/200\n",
            "3/3 [==============================] - 0s 15ms/step - loss: 0.7915 - accuracy: 0.8889\n",
            "Epoch 61/200\n",
            "3/3 [==============================] - 0s 15ms/step - loss: 0.7732 - accuracy: 0.8889\n",
            "Epoch 62/200\n",
            "3/3 [==============================] - 0s 16ms/step - loss: 0.7555 - accuracy: 0.8889\n",
            "Epoch 63/200\n",
            "3/3 [==============================] - 0s 15ms/step - loss: 0.7400 - accuracy: 0.8889\n",
            "Epoch 64/200\n",
            "3/3 [==============================] - 0s 15ms/step - loss: 0.7235 - accuracy: 0.8889\n",
            "Epoch 65/200\n",
            "3/3 [==============================] - 0s 15ms/step - loss: 0.7080 - accuracy: 0.8889\n",
            "Epoch 66/200\n",
            "3/3 [==============================] - 0s 15ms/step - loss: 0.6935 - accuracy: 0.8889\n",
            "Epoch 67/200\n",
            "3/3 [==============================] - 0s 14ms/step - loss: 0.6789 - accuracy: 0.8889\n",
            "Epoch 68/200\n",
            "3/3 [==============================] - 0s 17ms/step - loss: 0.6657 - accuracy: 0.8889\n",
            "Epoch 69/200\n",
            "3/3 [==============================] - 0s 16ms/step - loss: 0.6526 - accuracy: 0.9012\n",
            "Epoch 70/200\n",
            "3/3 [==============================] - 0s 16ms/step - loss: 0.6403 - accuracy: 0.9012\n",
            "Epoch 71/200\n",
            "3/3 [==============================] - 0s 15ms/step - loss: 0.6279 - accuracy: 0.9012\n",
            "Epoch 72/200\n",
            "3/3 [==============================] - 0s 15ms/step - loss: 0.6157 - accuracy: 0.9012\n",
            "Epoch 73/200\n",
            "3/3 [==============================] - 0s 15ms/step - loss: 0.6049 - accuracy: 0.9012\n",
            "Epoch 74/200\n",
            "3/3 [==============================] - 0s 15ms/step - loss: 0.5936 - accuracy: 0.9012\n",
            "Epoch 75/200\n",
            "3/3 [==============================] - 0s 15ms/step - loss: 0.5820 - accuracy: 0.9136\n",
            "Epoch 76/200\n",
            "3/3 [==============================] - 0s 15ms/step - loss: 0.5705 - accuracy: 0.9136\n",
            "Epoch 77/200\n",
            "3/3 [==============================] - 0s 17ms/step - loss: 0.5572 - accuracy: 0.9259\n",
            "Epoch 78/200\n",
            "3/3 [==============================] - 0s 15ms/step - loss: 0.5386 - accuracy: 0.9259\n",
            "Epoch 79/200\n",
            "3/3 [==============================] - 0s 14ms/step - loss: 0.5244 - accuracy: 0.9259\n",
            "Epoch 80/200\n",
            "3/3 [==============================] - 0s 14ms/step - loss: 0.5063 - accuracy: 0.9259\n",
            "Epoch 81/200\n",
            "3/3 [==============================] - 0s 14ms/step - loss: 0.4915 - accuracy: 0.9259\n",
            "Epoch 82/200\n",
            "3/3 [==============================] - 0s 15ms/step - loss: 0.4759 - accuracy: 0.9259\n",
            "Epoch 83/200\n",
            "3/3 [==============================] - 0s 14ms/step - loss: 0.4624 - accuracy: 0.9259\n",
            "Epoch 84/200\n",
            "3/3 [==============================] - 0s 15ms/step - loss: 0.4520 - accuracy: 0.9259\n",
            "Epoch 85/200\n",
            "3/3 [==============================] - 0s 16ms/step - loss: 0.4415 - accuracy: 0.9259\n",
            "Epoch 86/200\n",
            "3/3 [==============================] - 0s 15ms/step - loss: 0.4322 - accuracy: 0.9259\n",
            "Epoch 87/200\n",
            "3/3 [==============================] - 0s 18ms/step - loss: 0.4232 - accuracy: 0.9259\n",
            "Epoch 88/200\n",
            "3/3 [==============================] - 0s 15ms/step - loss: 0.4139 - accuracy: 0.9259\n",
            "Epoch 89/200\n",
            "3/3 [==============================] - 0s 16ms/step - loss: 0.4050 - accuracy: 0.9259\n",
            "Epoch 90/200\n",
            "3/3 [==============================] - 0s 15ms/step - loss: 0.3969 - accuracy: 0.9259\n",
            "Epoch 91/200\n",
            "3/3 [==============================] - 0s 15ms/step - loss: 0.3892 - accuracy: 0.9259\n",
            "Epoch 92/200\n",
            "3/3 [==============================] - 0s 15ms/step - loss: 0.3829 - accuracy: 0.9259\n",
            "Epoch 93/200\n",
            "3/3 [==============================] - 0s 16ms/step - loss: 0.3766 - accuracy: 0.9259\n",
            "Epoch 94/200\n",
            "3/3 [==============================] - 0s 15ms/step - loss: 0.3708 - accuracy: 0.9259\n",
            "Epoch 95/200\n",
            "3/3 [==============================] - 0s 15ms/step - loss: 0.3650 - accuracy: 0.9259\n",
            "Epoch 96/200\n",
            "3/3 [==============================] - 0s 15ms/step - loss: 0.3595 - accuracy: 0.9259\n",
            "Epoch 97/200\n",
            "3/3 [==============================] - 0s 15ms/step - loss: 0.3539 - accuracy: 0.9259\n",
            "Epoch 98/200\n",
            "3/3 [==============================] - 0s 15ms/step - loss: 0.3490 - accuracy: 0.9259\n",
            "Epoch 99/200\n",
            "3/3 [==============================] - 0s 16ms/step - loss: 0.3436 - accuracy: 0.9259\n",
            "Epoch 100/200\n",
            "3/3 [==============================] - 0s 15ms/step - loss: 0.3388 - accuracy: 0.9259\n",
            "Epoch 101/200\n",
            "3/3 [==============================] - 0s 16ms/step - loss: 0.3338 - accuracy: 0.9259\n",
            "Epoch 102/200\n",
            "3/3 [==============================] - 0s 15ms/step - loss: 0.3292 - accuracy: 0.9259\n",
            "Epoch 103/200\n",
            "3/3 [==============================] - 0s 16ms/step - loss: 0.3242 - accuracy: 0.9259\n",
            "Epoch 104/200\n",
            "3/3 [==============================] - 0s 15ms/step - loss: 0.3199 - accuracy: 0.9259\n",
            "Epoch 105/200\n",
            "3/3 [==============================] - 0s 20ms/step - loss: 0.3153 - accuracy: 0.9259\n",
            "Epoch 106/200\n",
            "3/3 [==============================] - 0s 15ms/step - loss: 0.3108 - accuracy: 0.9259\n",
            "Epoch 107/200\n",
            "3/3 [==============================] - 0s 16ms/step - loss: 0.3065 - accuracy: 0.9259\n",
            "Epoch 108/200\n",
            "3/3 [==============================] - 0s 16ms/step - loss: 0.3023 - accuracy: 0.9259\n",
            "Epoch 109/200\n",
            "3/3 [==============================] - 0s 16ms/step - loss: 0.2981 - accuracy: 0.9259\n",
            "Epoch 110/200\n",
            "3/3 [==============================] - 0s 15ms/step - loss: 0.2942 - accuracy: 0.9259\n",
            "Epoch 111/200\n",
            "3/3 [==============================] - 0s 16ms/step - loss: 0.2903 - accuracy: 0.9259\n",
            "Epoch 112/200\n",
            "3/3 [==============================] - 0s 15ms/step - loss: 0.2863 - accuracy: 0.9259\n",
            "Epoch 113/200\n",
            "3/3 [==============================] - 0s 15ms/step - loss: 0.2829 - accuracy: 0.9259\n",
            "Epoch 114/200\n",
            "3/3 [==============================] - 0s 16ms/step - loss: 0.2791 - accuracy: 0.9259\n",
            "Epoch 115/200\n",
            "3/3 [==============================] - 0s 15ms/step - loss: 0.2756 - accuracy: 0.9259\n",
            "Epoch 116/200\n",
            "3/3 [==============================] - 0s 16ms/step - loss: 0.2722 - accuracy: 0.9259\n",
            "Epoch 117/200\n",
            "3/3 [==============================] - 0s 15ms/step - loss: 0.2689 - accuracy: 0.9259\n",
            "Epoch 118/200\n",
            "3/3 [==============================] - 0s 16ms/step - loss: 0.2658 - accuracy: 0.9383\n",
            "Epoch 119/200\n",
            "3/3 [==============================] - 0s 15ms/step - loss: 0.2624 - accuracy: 0.9630\n",
            "Epoch 120/200\n",
            "3/3 [==============================] - 0s 16ms/step - loss: 0.2593 - accuracy: 0.9630\n",
            "Epoch 121/200\n",
            "3/3 [==============================] - 0s 15ms/step - loss: 0.2563 - accuracy: 0.9753\n",
            "Epoch 122/200\n",
            "3/3 [==============================] - 0s 16ms/step - loss: 0.2532 - accuracy: 0.9753\n",
            "Epoch 123/200\n",
            "3/3 [==============================] - 0s 15ms/step - loss: 0.2502 - accuracy: 0.9753\n",
            "Epoch 124/200\n",
            "3/3 [==============================] - 0s 19ms/step - loss: 0.2473 - accuracy: 0.9753\n",
            "Epoch 125/200\n",
            "3/3 [==============================] - 0s 16ms/step - loss: 0.2442 - accuracy: 0.9877\n",
            "Epoch 126/200\n",
            "3/3 [==============================] - 0s 16ms/step - loss: 0.2416 - accuracy: 0.9877\n",
            "Epoch 127/200\n",
            "3/3 [==============================] - 0s 15ms/step - loss: 0.2387 - accuracy: 0.9877\n",
            "Epoch 128/200\n",
            "3/3 [==============================] - 0s 15ms/step - loss: 0.2358 - accuracy: 0.9877\n",
            "Epoch 129/200\n",
            "3/3 [==============================] - 0s 16ms/step - loss: 0.2331 - accuracy: 0.9877\n",
            "Epoch 130/200\n",
            "3/3 [==============================] - 0s 16ms/step - loss: 0.2305 - accuracy: 0.9877\n",
            "Epoch 131/200\n",
            "3/3 [==============================] - 0s 15ms/step - loss: 0.2277 - accuracy: 0.9877\n",
            "Epoch 132/200\n",
            "3/3 [==============================] - 0s 15ms/step - loss: 0.2252 - accuracy: 0.9877\n",
            "Epoch 133/200\n",
            "3/3 [==============================] - 0s 15ms/step - loss: 0.2226 - accuracy: 0.9877\n",
            "Epoch 134/200\n",
            "3/3 [==============================] - 0s 15ms/step - loss: 0.2199 - accuracy: 0.9877\n",
            "Epoch 135/200\n",
            "3/3 [==============================] - 0s 15ms/step - loss: 0.2174 - accuracy: 0.9877\n",
            "Epoch 136/200\n",
            "3/3 [==============================] - 0s 15ms/step - loss: 0.2150 - accuracy: 0.9877\n",
            "Epoch 137/200\n",
            "3/3 [==============================] - 0s 16ms/step - loss: 0.2125 - accuracy: 0.9877\n",
            "Epoch 138/200\n",
            "3/3 [==============================] - 0s 15ms/step - loss: 0.2102 - accuracy: 0.9877\n",
            "Epoch 139/200\n",
            "3/3 [==============================] - 0s 15ms/step - loss: 0.2076 - accuracy: 0.9877\n",
            "Epoch 140/200\n",
            "3/3 [==============================] - 0s 15ms/step - loss: 0.2052 - accuracy: 0.9877\n",
            "Epoch 141/200\n",
            "3/3 [==============================] - 0s 15ms/step - loss: 0.2028 - accuracy: 0.9877\n",
            "Epoch 142/200\n",
            "3/3 [==============================] - 0s 16ms/step - loss: 0.2007 - accuracy: 0.9877\n",
            "Epoch 143/200\n",
            "3/3 [==============================] - 0s 17ms/step - loss: 0.1980 - accuracy: 0.9877\n",
            "Epoch 144/200\n",
            "3/3 [==============================] - 0s 15ms/step - loss: 0.1957 - accuracy: 0.9877\n",
            "Epoch 145/200\n",
            "3/3 [==============================] - 0s 15ms/step - loss: 0.1936 - accuracy: 0.9877\n",
            "Epoch 146/200\n",
            "3/3 [==============================] - 0s 15ms/step - loss: 0.1913 - accuracy: 0.9877\n",
            "Epoch 147/200\n",
            "3/3 [==============================] - 0s 24ms/step - loss: 0.1889 - accuracy: 0.9877\n",
            "Epoch 148/200\n",
            "3/3 [==============================] - 0s 15ms/step - loss: 0.1866 - accuracy: 0.9877\n",
            "Epoch 149/200\n",
            "3/3 [==============================] - 0s 15ms/step - loss: 0.1843 - accuracy: 0.9877\n",
            "Epoch 150/200\n",
            "3/3 [==============================] - 0s 17ms/step - loss: 0.1819 - accuracy: 0.9877\n",
            "Epoch 151/200\n",
            "3/3 [==============================] - 0s 15ms/step - loss: 0.1797 - accuracy: 0.9877\n",
            "Epoch 152/200\n",
            "3/3 [==============================] - 0s 16ms/step - loss: 0.1772 - accuracy: 0.9877\n",
            "Epoch 153/200\n",
            "3/3 [==============================] - 0s 16ms/step - loss: 0.1748 - accuracy: 0.9877\n",
            "Epoch 154/200\n",
            "3/3 [==============================] - 0s 16ms/step - loss: 0.1723 - accuracy: 0.9877\n",
            "Epoch 155/200\n",
            "3/3 [==============================] - 0s 15ms/step - loss: 0.1702 - accuracy: 0.9877\n",
            "Epoch 156/200\n",
            "3/3 [==============================] - 0s 16ms/step - loss: 0.1679 - accuracy: 0.9877\n",
            "Epoch 157/200\n",
            "3/3 [==============================] - 0s 17ms/step - loss: 0.1653 - accuracy: 0.9877\n",
            "Epoch 158/200\n",
            "3/3 [==============================] - 0s 16ms/step - loss: 0.1632 - accuracy: 0.9877\n",
            "Epoch 159/200\n",
            "3/3 [==============================] - 0s 16ms/step - loss: 0.1611 - accuracy: 0.9877\n",
            "Epoch 160/200\n",
            "3/3 [==============================] - 0s 16ms/step - loss: 0.1590 - accuracy: 0.9877\n",
            "Epoch 161/200\n",
            "3/3 [==============================] - 0s 17ms/step - loss: 0.1571 - accuracy: 0.9877\n",
            "Epoch 162/200\n",
            "3/3 [==============================] - 0s 15ms/step - loss: 0.1553 - accuracy: 0.9877\n",
            "Epoch 163/200\n",
            "3/3 [==============================] - 0s 15ms/step - loss: 0.1535 - accuracy: 0.9877\n",
            "Epoch 164/200\n",
            "3/3 [==============================] - 0s 15ms/step - loss: 0.1518 - accuracy: 0.9877\n",
            "Epoch 165/200\n",
            "3/3 [==============================] - 0s 15ms/step - loss: 0.1503 - accuracy: 0.9877\n",
            "Epoch 166/200\n",
            "3/3 [==============================] - 0s 16ms/step - loss: 0.1486 - accuracy: 0.9877\n",
            "Epoch 167/200\n",
            "3/3 [==============================] - 0s 16ms/step - loss: 0.1471 - accuracy: 0.9877\n",
            "Epoch 168/200\n",
            "3/3 [==============================] - 0s 15ms/step - loss: 0.1456 - accuracy: 0.9877\n",
            "Epoch 169/200\n",
            "3/3 [==============================] - 0s 15ms/step - loss: 0.1441 - accuracy: 0.9877\n",
            "Epoch 170/200\n",
            "3/3 [==============================] - 0s 15ms/step - loss: 0.1426 - accuracy: 0.9877\n",
            "Epoch 171/200\n",
            "3/3 [==============================] - 0s 15ms/step - loss: 0.1413 - accuracy: 0.9877\n",
            "Epoch 172/200\n",
            "3/3 [==============================] - 0s 16ms/step - loss: 0.1398 - accuracy: 0.9877\n",
            "Epoch 173/200\n",
            "3/3 [==============================] - 0s 15ms/step - loss: 0.1385 - accuracy: 0.9877\n",
            "Epoch 174/200\n",
            "3/3 [==============================] - 0s 15ms/step - loss: 0.1369 - accuracy: 0.9877\n",
            "Epoch 175/200\n",
            "3/3 [==============================] - 0s 15ms/step - loss: 0.1355 - accuracy: 0.9877\n",
            "Epoch 176/200\n",
            "3/3 [==============================] - 0s 16ms/step - loss: 0.1340 - accuracy: 1.0000\n",
            "Epoch 177/200\n",
            "3/3 [==============================] - 0s 15ms/step - loss: 0.1324 - accuracy: 1.0000\n",
            "Epoch 178/200\n",
            "3/3 [==============================] - 0s 15ms/step - loss: 0.1309 - accuracy: 1.0000\n",
            "Epoch 179/200\n",
            "3/3 [==============================] - 0s 22ms/step - loss: 0.1285 - accuracy: 1.0000\n",
            "Epoch 180/200\n",
            "3/3 [==============================] - 0s 15ms/step - loss: 0.1263 - accuracy: 1.0000\n",
            "Epoch 181/200\n",
            "3/3 [==============================] - 0s 16ms/step - loss: 0.1240 - accuracy: 1.0000\n",
            "Epoch 182/200\n",
            "3/3 [==============================] - 0s 17ms/step - loss: 0.1212 - accuracy: 1.0000\n",
            "Epoch 183/200\n",
            "3/3 [==============================] - 0s 15ms/step - loss: 0.1161 - accuracy: 1.0000\n",
            "Epoch 184/200\n",
            "3/3 [==============================] - 0s 15ms/step - loss: 0.1139 - accuracy: 1.0000\n",
            "Epoch 185/200\n",
            "3/3 [==============================] - 0s 16ms/step - loss: 0.1149 - accuracy: 1.0000\n",
            "Epoch 186/200\n",
            "3/3 [==============================] - 0s 16ms/step - loss: 0.1236 - accuracy: 1.0000\n",
            "Epoch 187/200\n",
            "3/3 [==============================] - 0s 16ms/step - loss: 0.1324 - accuracy: 1.0000\n",
            "Epoch 188/200\n",
            "3/3 [==============================] - 0s 17ms/step - loss: 0.1901 - accuracy: 0.9753\n",
            "Epoch 189/200\n",
            "3/3 [==============================] - 0s 16ms/step - loss: 0.1114 - accuracy: 1.0000\n",
            "Epoch 190/200\n",
            "3/3 [==============================] - 0s 15ms/step - loss: 0.1147 - accuracy: 1.0000\n",
            "Epoch 191/200\n",
            "3/3 [==============================] - 0s 17ms/step - loss: 0.1120 - accuracy: 1.0000\n",
            "Epoch 192/200\n",
            "3/3 [==============================] - 0s 16ms/step - loss: 0.1429 - accuracy: 0.9753\n",
            "Epoch 193/200\n",
            "3/3 [==============================] - 0s 17ms/step - loss: 0.1255 - accuracy: 0.9877\n",
            "Epoch 194/200\n",
            "3/3 [==============================] - 0s 15ms/step - loss: 0.1675 - accuracy: 0.9753\n",
            "Epoch 195/200\n",
            "3/3 [==============================] - 0s 16ms/step - loss: 0.1626 - accuracy: 0.9753\n",
            "Epoch 196/200\n",
            "3/3 [==============================] - 0s 15ms/step - loss: 0.1074 - accuracy: 1.0000\n",
            "Epoch 197/200\n",
            "3/3 [==============================] - 0s 21ms/step - loss: 0.1330 - accuracy: 0.9877\n",
            "Epoch 198/200\n",
            "3/3 [==============================] - 0s 15ms/step - loss: 0.1180 - accuracy: 1.0000\n",
            "Epoch 199/200\n",
            "3/3 [==============================] - 0s 16ms/step - loss: 0.1219 - accuracy: 1.0000\n",
            "Epoch 200/200\n",
            "3/3 [==============================] - 0s 16ms/step - loss: 0.1734 - accuracy: 0.9630\n"
          ]
        }
      ],
      "source": [
        "h = model.fit(\n",
        "    padded_train,train_labels,\n",
        "\n",
        "    epochs=200,\n",
        ")"
      ]
    },
    {
      "cell_type": "code",
      "execution_count": null,
      "metadata": {
        "id": "M9W80GqfNK-d"
      },
      "outputs": [],
      "source": [
        "def respond(sentence):\n",
        "  koko = []\n",
        "  koko.append(sentence)\n",
        "  seq = get_sequences (tokenizer , koko)\n",
        "  preds =  model.predict(seq)[0]\n",
        "  n = np.argmax(preds)\n",
        "  response = random.choice(responses[index_to_class[n]])\n",
        "  return response"
      ]
    },
    {
      "cell_type": "code",
      "execution_count": null,
      "metadata": {
        "colab": {
          "base_uri": "https://localhost:8080/"
        },
        "id": "Q3En7QG1Ne7D",
        "outputId": "3eac88b1-9b2c-4c02-e02a-c836431cb90f"
      },
      "outputs": [
        {
          "name": "stdout",
          "output_type": "stream",
          "text": [
            "how do i join the pirates\n",
            "Me :  how do i join the pirates\n",
            "1/1 [==============================] - 0s 18ms/step\n",
            "Houari :  Yeah , am fine\n"
          ]
        }
      ],
      "source": [
        "question = input()\n",
        "print('Me : ',question)\n",
        "print('Houari : ',respond(question))"
      ]
    },
    {
      "cell_type": "code",
      "execution_count": null,
      "metadata": {
        "colab": {
          "background_save": true,
          "base_uri": "https://localhost:8080/"
        },
        "id": "gvvZiWGR6Lmg",
        "outputId": "938473c1-84c5-4ab1-dcf9-db88e78ba154"
      },
      "outputs": [
        {
          "name": "stdout",
          "output_type": "stream",
          "text": [
            "Me :  hi there\n",
            "1/1 [==============================] - 0s 18ms/step\n",
            "Houari :  Hey yo, do you need help ?\n",
            "Me :  how do i join the pirates\n",
            "1/1 [==============================] - 0s 21ms/step\n",
            "Houari :  Yeah Fine, nothing much going on in my life\n",
            "Me :  how do i join the pirates\n",
            "1/1 [==============================] - 0s 19ms/step\n",
            "Houari :  Things are Great\n",
            "Me :  i want to join the pirates\n",
            "1/1 [==============================] - 0s 18ms/step\n",
            "Houari :  swordsman, a medical reindeer, taekwando Cook, master navigator, simple minded monkey, highly intelligent strategist, god usop. you gotta be one of these things to pass the requirement and join the pirates\n",
            "Me :  alright , who are you ?\n",
            "1/1 [==============================] - 0s 19ms/step\n",
            "Houari :  galek jaja jabet lbac wch dart ? o9o9\n",
            "Me :  what !!\n",
            "1/1 [==============================] - 0s 23ms/step\n",
            "Houari :  galek whd esmo m3amer 6al mn balcon sa7\n",
            "Me :  how are you doing ?\n",
            "1/1 [==============================] - 0s 21ms/step\n",
            "Houari :  Yeah , am fine\n",
            "Me :  how do i join the pirates ?\n",
            "1/1 [==============================] - 0s 20ms/step\n",
            "Houari :  Yeah Fine, nothing much going on in my life\n",
            "Me :  how do i join the pirates ?\n",
            "1/1 [==============================] - 0s 19ms/step\n",
            "Houari :  Everything's great.\n",
            "Me :  how do i join the pirates ?\n",
            "1/1 [==============================] - 0s 23ms/step\n",
            "Houari :  Yeah Fine, nothing much going on in my life\n",
            "Me :  how do i join the pirates ?\n",
            "1/1 [==============================] - 0s 23ms/step\n",
            "Houari :  Yeah Fine, nothing much going on in my life\n",
            "Me :  how do i join the pirates ?\n",
            "1/1 [==============================] - 0s 19ms/step\n",
            "Houari :  Things are Great\n"
          ]
        }
      ],
      "source": [
        "while True:\n",
        "  question = input()\n",
        "  print('Me : ',question)\n",
        "  print('Houari : ',respond(question))"
      ]
    }
  ],
  "metadata": {
    "colab": {
      "provenance": [],
      "authorship_tag": "ABX9TyPMrQAAhaLAR5F8ddjhPaoW",
      "include_colab_link": true
    },
    "kernelspec": {
      "display_name": "Python 3",
      "name": "python3"
    },
    "language_info": {
      "name": "python"
    }
  },
  "nbformat": 4,
  "nbformat_minor": 0
}